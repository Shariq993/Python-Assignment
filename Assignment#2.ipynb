{
 "cells": [
  {
   "cell_type": "code",
   "execution_count": 87,
   "metadata": {},
   "outputs": [
    {
     "name": "stdout",
     "output_type": "stream",
     "text": [
      "Enter the marks of Math 90\n",
      "Enter the marks of Physics 85\n",
      "Enter the marks of Urdu 65\n",
      "Enter the marks of English 77\n",
      "Enter the marks of Islamiat 75\n",
      "You grade is 'A'\n"
     ]
    }
   ],
   "source": [
    "sub1=int(input(\"Enter the marks of Math \"))\n",
    "sub2=int(input(\"Enter the marks of Physics \"))\n",
    "sub3=int(input(\"Enter the marks of Urdu \"))\n",
    "sub4=int(input(\"Enter the marks of English \"))\n",
    "sub5=int(input(\"Enter the marks of Islamiat \"))\n",
    "avg=(sub1+sub2+sub3+sub4+sub5)//5\n",
    "if avg>=70 and avg<=100:\n",
    "    print(\"You grade is 'A'\")\n",
    "elif avg>=60 and avg<70:\n",
    "    print(\"Your grade is 'B'\")\n",
    "elif avg>=50 and avg<60:\n",
    "    print(\"Your grade is 'C'\")\n",
    "elif avg>=40 and avg<50:\n",
    "    print(\"Your grade is 'D'\")\n",
    "elif avg>=0 and avg<40:\n",
    "    print(\"'Fail'\")\n",
    "else:\n",
    "    print(\"Please enter the value(which is '1 to 100')\")"
   ]
  },
  {
   "cell_type": "code",
   "execution_count": 56,
   "metadata": {},
   "outputs": [
    {
     "name": "stdout",
     "output_type": "stream",
     "text": [
      "Enter your number: 75\n",
      "75 is Odd\n"
     ]
    }
   ],
   "source": [
    "num=int(input(\"Enter your number: \"))\n",
    "if num%2==0:\n",
    "    print(\"{0} is Even\" .format(num))\n",
    "else:\n",
    "    print(\"{0} is Odd\" .format(num))"
   ]
  },
  {
   "cell_type": "code",
   "execution_count": 8,
   "metadata": {},
   "outputs": [
    {
     "name": "stdout",
     "output_type": "stream",
     "text": [
      "The length of a list is: 15\n"
     ]
    }
   ],
   "source": [
    "a=[55,74,63,21,84,95,41,35,74,20,69,84,12,65,48]\n",
    "print(\"The length of a list is:\",len(a))"
   ]
  },
  {
   "cell_type": "code",
   "execution_count": 64,
   "metadata": {},
   "outputs": [
    {
     "name": "stdout",
     "output_type": "stream",
     "text": [
      "The sum of a list is:  309\n"
     ]
    }
   ],
   "source": [
    "a = [1,4,9,6,3,78,25,36,48,99]\n",
    "print(\"The sum of a list is: \",sum(a))"
   ]
  },
  {
   "cell_type": "code",
   "execution_count": 80,
   "metadata": {},
   "outputs": [
    {
     "name": "stdout",
     "output_type": "stream",
     "text": [
      "The largest number in a list is:  375\n"
     ]
    }
   ],
   "source": [
    "a = [11,66,54,23,98,54,375,32,42,101,85,152,87]\n",
    "print(\"The largest number in a list is: \",max(a))"
   ]
  },
  {
   "cell_type": "code",
   "execution_count": 9,
   "metadata": {},
   "outputs": [
    {
     "name": "stdout",
     "output_type": "stream",
     "text": [
      "1\n",
      "1\n",
      "2\n",
      "3\n"
     ]
    }
   ],
   "source": [
    "a = [1, 1, 2, 3, 5, 8, 13, 21, 34, 55, 89]\n",
    "for b in a:\n",
    "    if b < 5:\n",
    "        print(b)"
   ]
  }
 ],
 "metadata": {
  "kernelspec": {
   "display_name": "Python 3",
   "language": "python",
   "name": "python3"
  },
  "language_info": {
   "codemirror_mode": {
    "name": "ipython",
    "version": 3
   },
   "file_extension": ".py",
   "mimetype": "text/x-python",
   "name": "python",
   "nbconvert_exporter": "python",
   "pygments_lexer": "ipython3",
   "version": "3.7.1"
  }
 },
 "nbformat": 4,
 "nbformat_minor": 2
}
