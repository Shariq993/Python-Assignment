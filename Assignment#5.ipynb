{
 "cells": [
  {
   "cell_type": "code",
   "execution_count": 10,
   "metadata": {},
   "outputs": [
    {
     "name": "stdout",
     "output_type": "stream",
     "text": [
      "Enter a number to compute the factorial : 5\n",
      "The answer is: 120\n"
     ]
    }
   ],
   "source": [
    "#Question 1\n",
    "#Calculate the factorial of a number\n",
    "def factorial(n):\n",
    "    if n == 0:\n",
    "        return 1\n",
    "    else:\n",
    "        return n * factorial(n-1)\n",
    "n=int(input(\"Enter a number to compute the factorial : \"))\n",
    "print(\"The answer is:\", factorial(n))"
   ]
  },
  {
   "cell_type": "code",
   "execution_count": 11,
   "metadata": {},
   "outputs": [
    {
     "name": "stdout",
     "output_type": "stream",
     "text": [
      "String :  Hi My Name is Shariq\n",
      "Total Upper case Letters :  4\n",
      "Total Lower case Letters :  12\n"
     ]
    }
   ],
   "source": [
    "#Question 2\n",
    "#Calculate the number of upper case letters and lower case letters\n",
    "def string(s):\n",
    "    d={\"UPPER_CASE\":0, \"LOWER_CASE\":0}\n",
    "    for c in s:\n",
    "        if c.isupper():\n",
    "           d[\"UPPER_CASE\"]+=1\n",
    "        elif c.islower():\n",
    "           d[\"LOWER_CASE\"]+=1\n",
    "    print (\"String : \", s)\n",
    "    print (\"Total Upper case Letters : \", d[\"UPPER_CASE\"])\n",
    "    print (\"Total Lower case Letters : \", d[\"LOWER_CASE\"])\n",
    "string(\"Hi My Name is Shariq\")"
   ]
  },
  {
   "cell_type": "code",
   "execution_count": 12,
   "metadata": {},
   "outputs": [
    {
     "name": "stdout",
     "output_type": "stream",
     "text": [
      "Even numbers are:\n",
      "56\n",
      "88\n",
      "24\n",
      "66\n"
     ]
    }
   ],
   "source": [
    "#Question 3\n",
    "#Even numbers in a list\n",
    "print(\"Even numbers are:\")\n",
    "num=[56,88,23,57,24,33,66,85,73]\n",
    "for lst in num:\n",
    "    if lst%2==0:\n",
    "        print(lst)"
   ]
  },
  {
   "cell_type": "code",
   "execution_count": 13,
   "metadata": {},
   "outputs": [
    {
     "name": "stdout",
     "output_type": "stream",
     "text": [
      "True\n"
     ]
    }
   ],
   "source": [
    "#Question 4\n",
    "#Palindrome\n",
    "def isPalindrome(string):\n",
    "    left_pos = 0\n",
    "    right_pos = len(string) - 1\n",
    "    while right_pos >= left_pos:\n",
    "        if not string[left_pos] == string[right_pos]:\n",
    "            return False\n",
    "        left_pos += 1\n",
    "        right_pos -= 1\n",
    "    return True\n",
    "print(isPalindrome(\"madam\"))"
   ]
  },
  {
   "cell_type": "code",
   "execution_count": 14,
   "metadata": {},
   "outputs": [
    {
     "name": "stdout",
     "output_type": "stream",
     "text": [
      "True\n"
     ]
    }
   ],
   "source": [
    "#Question 5\n",
    "#Check the number is prime or not\n",
    "def prime(n):\n",
    "    if (n==1):\n",
    "        return False\n",
    "    elif (n==2):\n",
    "        return True\n",
    "    else:\n",
    "        for x in range(2,n):\n",
    "            if(n % x==0):\n",
    "                return False\n",
    "        return True           \n",
    "print(prime(7))"
   ]
  },
  {
   "cell_type": "code",
   "execution_count": 15,
   "metadata": {},
   "outputs": [
    {
     "name": "stdout",
     "output_type": "stream",
     "text": [
      "Costumer items are:\n",
      "Tomatos\n",
      "Mangoes\n",
      "Toothpaste\n",
      "Soap\n",
      "Cold drink\n",
      "Biscuits\n",
      "Rice\n"
     ]
    }
   ],
   "source": [
    "#Question 6\n",
    "#Multiple arguments\n",
    "def my_items(*item):\n",
    "    print(\"Costumer items are:\")\n",
    "    for shopping in item:\n",
    "        print(shopping)\n",
    "my_items(\"Tomatos\",\"Mangoes\",\"Toothpaste\",\"Soap\",\"Cold drink\",\"Biscuits\",\"Rice\")"
   ]
  }
 ],
 "metadata": {
  "kernelspec": {
   "display_name": "Python 3",
   "language": "python",
   "name": "python3"
  },
  "language_info": {
   "codemirror_mode": {
    "name": "ipython",
    "version": 3
   },
   "file_extension": ".py",
   "mimetype": "text/x-python",
   "name": "python",
   "nbconvert_exporter": "python",
   "pygments_lexer": "ipython3",
   "version": "3.7.1"
  }
 },
 "nbformat": 4,
 "nbformat_minor": 2
}
