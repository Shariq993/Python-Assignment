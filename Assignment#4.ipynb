{
 "cells": [
  {
   "cell_type": "code",
   "execution_count": 2,
   "metadata": {},
   "outputs": [
    {
     "name": "stdout",
     "output_type": "stream",
     "text": [
      "Abdul\n",
      "Rehman\n",
      "19\n",
      "Islamabad\n",
      "{'first_name': 'Abdul', 'last_name': 'Rehman', 'age': '19', 'city': 'Islamabad', 'qualification': 'Matric'}\n",
      "{'first_name': 'Abdul', 'last_name': 'Rehman', 'age': '19', 'city': 'Islamabad', 'qualification': 'Inter'}\n",
      "{'first_name': 'Abdul', 'last_name': 'Rehman', 'age': '19', 'city': 'Islamabad'}\n"
     ]
    }
   ],
   "source": [
    "#Question 1\n",
    "#A person information\n",
    "person={\n",
    "    \"first_name\":\"Abdul\",\n",
    "    \"last_name\":\"Rehman\",\n",
    "    \"age\":\"19\",\n",
    "    \"city\":\"Islamabad\"\n",
    "}\n",
    "print(person[\"first_name\"])\n",
    "print(person[\"last_name\"])\n",
    "print(person[\"age\"])\n",
    "print(person[\"city\"])\n",
    "person[\"qualification\"]=\"Matric\"\n",
    "print(person)\n",
    "person[\"qualification\"]=\"Inter\"\n",
    "print(person)\n",
    "del person[\"qualification\"]\n",
    "print(person)"
   ]
  },
  {
   "cell_type": "code",
   "execution_count": 3,
   "metadata": {},
   "outputs": [
    {
     "name": "stdout",
     "output_type": "stream",
     "text": [
      "{'Country': 'Pakistan', 'Population': '14.91 million', 'Fact': 'It is the Sixth largest city in the world'}\n",
      "{'Country': 'United Arab Emirates', 'Population': '3.137 million', 'Fact': 'Dubai is famous for sightseeing attractions'}\n",
      "{'Country': 'England', 'Population': '8.9 million', 'Fact': 'London has 170 Museums'}\n"
     ]
    }
   ],
   "source": [
    "#Question 2\n",
    "#Cities information\n",
    "cities={\n",
    "    \"Karachi\":{\n",
    "        \"Country\":\"Pakistan\",\n",
    "        \"Population\":\"14.91 million\",\n",
    "        \"Fact\":\"It is the Sixth largest city in the world\"\n",
    "    },\n",
    "    \"Dubai\":{\n",
    "        \"Country\":\"United Arab Emirates\",\n",
    "        \"Population\":\"3.137 million\",\n",
    "        \"Fact\":\"Dubai is famous for sightseeing attractions\"\n",
    "    },\n",
    "    \"London\":{\n",
    "        \"Country\":\"England\",\n",
    "        \"Population\":\"8.9 million\",\n",
    "        \"Fact\":\"London has 170 Museums\"\n",
    "    }\n",
    "}\n",
    "print(cities[\"Karachi\"])\n",
    "print(cities[\"Dubai\"])\n",
    "print(cities[\"London\"])"
   ]
  },
  {
   "cell_type": "code",
   "execution_count": 4,
   "metadata": {},
   "outputs": [
    {
     "name": "stdout",
     "output_type": "stream",
     "text": [
      "\t\t:First person:\n",
      "Enter your age 2\n",
      "The ticket is free!\n",
      "\t\t:Second person:\n",
      "Enter your age 9\n",
      "The price of ticket is $10\n",
      "\t\t:Third person:\n",
      "Enter your age 21\n",
      "The price of ticket is $15\n"
     ]
    }
   ],
   "source": [
    "#Question 3\n",
    "#Movie theater charges\n",
    "persons=[\n",
    "    {\n",
    "        \"person\":\"\\t\\t:First person:\",\n",
    "        \"question\":\"Enter your age \"\n",
    "    },\n",
    "    {\n",
    "        \"person\":\"\\t\\t:Second person:\",\n",
    "        \"question\":\"Enter your age \"\n",
    "    },\n",
    "    {\n",
    "        \"person\":\"\\t\\t:Third person:\",\n",
    "        \"question\":\"Enter your age \"\n",
    "    }\n",
    "]\n",
    "for a in persons:\n",
    "    user=a[\"person\"]+\"\\n\"+a[\"question\"]\n",
    "    ans=int(input(user))\n",
    "    if ans>=0 and ans<=2:\n",
    "        print(\"The ticket is free!\")\n",
    "    elif ans>=3 and ans<=12:\n",
    "        print(\"The price of ticket is $10\")\n",
    "    elif ans>=13:\n",
    "        print(\"The price of ticket is $15\")"
   ]
  },
  {
   "cell_type": "code",
   "execution_count": 5,
   "metadata": {},
   "outputs": [
    {
     "name": "stdout",
     "output_type": "stream",
     "text": [
      "Alice in Wonderland is my favorite book.\n"
     ]
    }
   ],
   "source": [
    "#Question 4\n",
    "#Favorite book\n",
    "def favorite_book(title):\n",
    "    message=\"In Alice in Wonderland, unlike other fairy tales, the story represents a child's true progression through life. In real life,  in the industrialized world, a child has to figure things out on her own.\"\n",
    "    print(title + \" is my favorite book.\")\n",
    "favorite_book(\"Alice in Wonderland\")"
   ]
  },
  {
   "cell_type": "code",
   "execution_count": 8,
   "metadata": {},
   "outputs": [
    {
     "name": "stdout",
     "output_type": "stream",
     "text": [
      "You have three chance to guess hidden number\n",
      "Enter any number (from 1 to 30)\n",
      "22\n",
      "\n",
      "Hint : Hidden number is greater than 22\n",
      "Only two chance left\n",
      "Enter any number (from 1 to 30)\n",
      "26\n",
      "\n",
      "YOU WIN!\n",
      "\n",
      "The Hidden number is  26\n"
     ]
    }
   ],
   "source": [
    "#Question 5\n",
    "#Guess the number game\n",
    "import random\n",
    "n=random.randint(1,30)\n",
    "guess=[\n",
    "    {\n",
    "        \"a\":\"You have three chance to guess hidden number\",\n",
    "        \"b\":\"Enter any number (from 1 to 30)\"\n",
    "    },\n",
    "    {\n",
    "        \"a\":\"Only two chance left\",\n",
    "        \"b\":\"Enter any number (from 1 to 30)\"\n",
    "    },\n",
    "    {\n",
    "        \"a\":\"Last chance\",\n",
    "        \"b\":\"Enter any number (from 1 to 30)\"\n",
    "    }\n",
    "]\n",
    "for game in guess:\n",
    "    user=game[\"a\"]+\"\\n\"+game[\"b\"]+\"\\n\"\n",
    "    ans=int(input(user))\n",
    "    if ans<n:\n",
    "        print(\"\\nHint : Hidden number is greater than\",ans)\n",
    "    elif ans>n:\n",
    "        print(\"\\nHint : Hidden number is lower than\",ans)\n",
    "    elif ans==n:\n",
    "        print(\"\\nYOU WIN!\")\n",
    "        break\n",
    "print(\"\\nThe Hidden number is \",n)"
   ]
  }
 ],
 "metadata": {
  "kernelspec": {
   "display_name": "Python 3",
   "language": "python",
   "name": "python3"
  },
  "language_info": {
   "codemirror_mode": {
    "name": "ipython",
    "version": 3
   },
   "file_extension": ".py",
   "mimetype": "text/x-python",
   "name": "python",
   "nbconvert_exporter": "python",
   "pygments_lexer": "ipython3",
   "version": "3.7.1"
  }
 },
 "nbformat": 4,
 "nbformat_minor": 2
}
