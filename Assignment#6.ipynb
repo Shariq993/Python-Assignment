{
 "cells": [
  {
   "cell_type": "markdown",
   "metadata": {},
   "source": [
    "# Question 1:\n",
    "# Object Oriented Programming\n",
    "Object-oriented programming is a programming paradigm based on the concept of \"objects\", which can contain data, in the form of fields, and code, in the form of procedures. A feature of objects is an object's procedures that can access and often modify the data fields of the object with which they are associated.\n",
    "                      "
   ]
  },
  {
   "cell_type": "markdown",
   "metadata": {},
   "source": [
    "# Question 2:\n",
    "# Benefits of OOP\n",
    "1. Modularity for easier troubleshooting\n",
    "2. Reuse of code through inheritance\n",
    "3. Flexibility through polymorphism\n",
    "4. Effective problem solving"
   ]
  },
  {
   "cell_type": "markdown",
   "metadata": {},
   "source": [
    "# Question 3:\n",
    "# Differentiate between function and method\n",
    "# Function:\n",
    "A function is a piece of code that is called by name. It can be passed data to operate on (i.e. the parameters) and can optionally return data (the return value). All data that is passed to a function is explicitly passed.\n",
    "# Method:\n",
    "A method is a piece of code that is called by a name that is associated with an object."
   ]
  },
  {
   "cell_type": "markdown",
   "metadata": {},
   "source": [
    "# Question 4:\n",
    "# Definations\n",
    "# 1. Class:\n",
    "A class describes the contents of the objects that belong to it. It describes an aggregate of data fields (called instance variables), and defines the operations (called methods).\n",
    "# 2. Object:\n",
    "An object is an element (or instance) of a class. Objects have the behaviors of their class.\n",
    "# 3. Attribute:\n",
    "In Object-oriented programming(OOP), classes and objects have attributes. Attributes are data stored inside a class or instance and represent the state or quality of the class or instance. In short, attributes store information about the instance.\n",
    "# 4. Behavior:\n",
    "A class's behavior determines how an instance of that class operates; for example, how it will \"react\" if asked to do something by another class or object or if its internal state changes. Behavior is the only way objects can do anything to themselves or have anything done to them."
   ]
  },
  {
   "cell_type": "code",
   "execution_count": 51,
   "metadata": {},
   "outputs": [
    {
     "name": "stdout",
     "output_type": "stream",
     "text": [
      "Suzuki\n",
      "Red\n",
      "Alto\n",
      "660cc\n",
      "140 KM/H\n",
      "This car is very camfortable\n",
      "This car is very fast\n",
      "This car is manufacture in Chaina\n",
      "<__main__.Car object at 0x037FC590>\n"
     ]
    }
   ],
   "source": [
    "# Question 5:\n",
    "class Car():\n",
    "    def __init__(self,model,color,name,engine,speed):\n",
    "        self.model=model\n",
    "        self.color=color\n",
    "        self.name=name\n",
    "        self.engine=engine\n",
    "        self.speed=speed\n",
    "car1=Car(\"Suzuki\",\"Red\",\"Alto\",\"660cc\",\"140 KM/H\")\n",
    "print(car1.model)\n",
    "print(car1.color)\n",
    "print(car1.name)\n",
    "print(car1.engine)\n",
    "print(car1.speed)\n",
    "class Car():\n",
    "    def method_one(self):\n",
    "        print(\"This car is very camfortable\")\n",
    "    def method_two(self):\n",
    "        print(\"This car is very fast\")\n",
    "    def method_three(self):\n",
    "        print(\"This car is manufacture in Chaina\")\n",
    "c=Car()\n",
    "c.method_one()\n",
    "c.method_two()\n",
    "c.method_three()\n",
    "print(car1)"
   ]
  }
 ],
 "metadata": {
  "kernelspec": {
   "display_name": "Python 3",
   "language": "python",
   "name": "python3"
  },
  "language_info": {
   "codemirror_mode": {
    "name": "ipython",
    "version": 3
   },
   "file_extension": ".py",
   "mimetype": "text/x-python",
   "name": "python",
   "nbconvert_exporter": "python",
   "pygments_lexer": "ipython3",
   "version": "3.7.1"
  }
 },
 "nbformat": 4,
 "nbformat_minor": 2
}
