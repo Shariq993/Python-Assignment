{
 "cells": [
  {
   "cell_type": "code",
   "execution_count": 29,
   "metadata": {},
   "outputs": [
    {
     "name": "stdout",
     "output_type": "stream",
     "text": [
      "Enter First Number 856\n",
      "Enter Second Number 234\n",
      "Enter Your Operator(i.e.+,-,*,/,**) /\n",
      "3.658119658119658 Answer\n"
     ]
    }
   ],
   "source": [
    "                                                    #SIMPLE CALCULATOR:\n",
    "num1=float(input(\"Enter First Number \"))\n",
    "num2=float(input(\"Enter Second Number \"))\n",
    "op=input(\"Enter Your Operator(i.e.+,-,*,/,**) \")\n",
    "if op==\"+\":\n",
    "    print(num1+num2,\"Answer\")\n",
    "elif op==\"-\":\n",
    "    print(num1-num2,\"Anser\")\n",
    "elif op==\"*\":\n",
    "    print(num1**num2,\"Answer\")\n",
    "elif op==\"/\":\n",
    "    print(num1/num2,\"Answer\")\n",
    "elif op==\"**\":\n",
    "    print(num1**num2,\"Answer\")\n",
    "else:\n",
    "    print(\"Enter the correct Operator(i.e.+,-,*,/,**)\")"
   ]
  },
  {
   "cell_type": "code",
   "execution_count": 30,
   "metadata": {},
   "outputs": [
    {
     "name": "stdout",
     "output_type": "stream",
     "text": [
      "Remember Last One is Your Correct Answer\n",
      "Enter Your Number 3\n",
      "Not Found\n",
      "Not Found\n",
      "Found\n"
     ]
    }
   ],
   "source": [
    "#Check numeric value in a list\n",
    "a=[\"Google\",\"2\",\"3\",\"4\",\"Youtube\",\"1\",\"5\",\"6\",\"Facebook\",\"9\"]\n",
    "b=input(\"Remember Last One is Your Correct Answer\\nEnter Your Number \")\n",
    "for s in a:\n",
    "    if b==s:\n",
    "        print(\"Found\")\n",
    "        break\n",
    "    else:\n",
    "        print(\"Not Found\")"
   ]
  },
  {
   "cell_type": "code",
   "execution_count": 31,
   "metadata": {},
   "outputs": [
    {
     "name": "stdout",
     "output_type": "stream",
     "text": [
      "{'First name': 'Muhammad', 'Last name': 'Shariq', 'Language': 'Urdu'}\n",
      "{'First name': 'Muhammad', 'Last name': 'Shariq', 'Language': 'Urdu', 'Age': '17'}\n"
     ]
    }
   ],
   "source": [
    "#Add a key to a dictionary\n",
    "a={\n",
    "    \"First name\":\"Muhammad\",\n",
    "    \"Last name\":\"Shariq\",\n",
    "    \"Language\":\"Urdu\"\n",
    "}\n",
    "print(a)\n",
    "a[\"Age\"]=\"17\"\n",
    "print(a)"
   ]
  },
  {
   "cell_type": "code",
   "execution_count": 32,
   "metadata": {},
   "outputs": [
    {
     "name": "stdout",
     "output_type": "stream",
     "text": [
      "SUM :  650\n"
     ]
    }
   ],
   "source": [
    "#Sum numeric items in a dictionary\n",
    "dict={\n",
    "    \"a\":200,\n",
    "    \"b\":400,\n",
    "    \"c\":50\n",
    "}\n",
    "print(\"SUM : \",sum(dict.values()))"
   ]
  },
  {
   "cell_type": "code",
   "execution_count": 33,
   "metadata": {},
   "outputs": [
    {
     "name": "stdout",
     "output_type": "stream",
     "text": [
      "[1, 2, 5]\n"
     ]
    }
   ],
   "source": [
    "#Identify duplicate values\n",
    "a = [1,2,1,3,2,5,6,5,5,5]\n",
    "print([i for i in set(a) if a.count(i) > 1])"
   ]
  },
  {
   "cell_type": "code",
   "execution_count": 34,
   "metadata": {},
   "outputs": [
    {
     "name": "stdout",
     "output_type": "stream",
     "text": [
      "Enter key 4\n",
      "This Key is present in the dictionary\n"
     ]
    }
   ],
   "source": [
    "#Key already exists in a dictionary\n",
    "a = {1: 10, 2: 20, 3: 30, 4: 40, 5: 50, 6: 60}\n",
    "def b(x):\n",
    "  if x in a:\n",
    "      print('This Key is present in the dictionary')\n",
    "  else:\n",
    "      print('This Key is not present in the dictionary')\n",
    "b(int(input(\"Enter key \")))"
   ]
  }
 ],
 "metadata": {
  "kernelspec": {
   "display_name": "Python 3",
   "language": "python",
   "name": "python3"
  },
  "language_info": {
   "codemirror_mode": {
    "name": "ipython",
    "version": 3
   },
   "file_extension": ".py",
   "mimetype": "text/x-python",
   "name": "python",
   "nbconvert_exporter": "python",
   "pygments_lexer": "ipython3",
   "version": "3.7.1"
  }
 },
 "nbformat": 4,
 "nbformat_minor": 2
}
